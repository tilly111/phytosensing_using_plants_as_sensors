{
 "cells": [
  {
   "cell_type": "markdown",
   "source": [
    "# Phytosensing – Using Plants as Sensors\n",
    "## Introduction\n",
    "In this tutorial we will develop a toolchain to analyse and classify plant electrical signals to infer the external stimulus of the given plant.\n",
    "Because collecting the data would take too much time we will use a dataset that we collected earlier (in Lübeck). It is a real world dataset.\n",
    "I planned the practical in the way that you will be guided step by step. I encourage the peoples who are familiar with programming in python (and the used libraries) to explore other possible approaches. In the end we will do a little challenge were you can implement a classifier (and possible pipeline) and the best performing classifier will win (maybe a prize maybe not).\n",
    "\n",
    "## 1. Load the dataset (data acquisition)\n",
    "Because we do not have to collect a dataset this section is only about loading data, visualization, and cutting the data into the appropriate experiment intervals. Hence we will do the following steps:\n",
    "\n",
    "1. Load the dataset\n",
    "2. Visualize the dataset\n",
    "3. cut the dataset into the appropriate length\n",
    "\n",
    "<em>Hint: for the final challenge you are allowed to use all available data (not only the cut data)</em>\n",
    "\n",
    "### Loading the dataset\n",
    "The data were collected using the Cybres MU measurement system. Hence, we have a lot of information that are not interesting for us. We will only use the following columns: `timestamp`, `differential_potential_CH1`, and `differential_potential_CH2`. In a first load the data into a pandas dataframe and print the first 5 rows."
   ],
   "metadata": {
    "collapsed": false
   }
  },
  {
   "cell_type": "code",
   "execution_count": null,
   "outputs": [],
   "source": [
    "# import the required libraries\n",
    "import pandas as pd\n",
    "import matplotlib.pyplot as plt\n",
    "\n",
    "wind_1 = pd.read_csv('data/raw_data/wind/series_1.csv')\n",
    "\n",
    "print(wind_1.head())"
   ],
   "metadata": {
    "collapsed": false,
    "pycharm": {
     "is_executing": true
    }
   }
  },
  {
   "cell_type": "code",
   "execution_count": null,
   "outputs": [],
   "source": [],
   "metadata": {
    "collapsed": false
   }
  }
 ],
 "metadata": {
  "kernelspec": {
   "display_name": "Python 3",
   "language": "python",
   "name": "python3"
  },
  "language_info": {
   "codemirror_mode": {
    "name": "ipython",
    "version": 2
   },
   "file_extension": ".py",
   "mimetype": "text/x-python",
   "name": "python",
   "nbconvert_exporter": "python",
   "pygments_lexer": "ipython2",
   "version": "2.7.6"
  }
 },
 "nbformat": 4,
 "nbformat_minor": 0
}
